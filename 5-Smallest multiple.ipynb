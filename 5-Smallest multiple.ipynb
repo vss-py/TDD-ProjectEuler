{
 "cells": [
  {
   "cell_type": "markdown",
   "metadata": {},
   "source": [
    "* #  Smallest multiple"
   ]
  },
  {
   "cell_type": "markdown",
   "metadata": {},
   "source": [
    "2520 is the smallest number that can be divided by each of the numbers from 1 to 10 without any remainder.\n",
    "\n",
    "What is the smallest positive number that is evenly divisible by all of the numbers from 1 to 20?"
   ]
  },
  {
   "cell_type": "code",
   "execution_count": 1,
   "metadata": {},
   "outputs": [
    {
     "ename": "NameError",
     "evalue": "name 'divisor' is not defined",
     "output_type": "error",
     "traceback": [
      "\u001b[0;31m---------------------------------------------------------------------------\u001b[0m",
      "\u001b[0;31mNameError\u001b[0m                                 Traceback (most recent call last)",
      "\u001b[0;32m<ipython-input-1-762a48a2a85e>\u001b[0m in \u001b[0;36m<module>\u001b[0;34m()\u001b[0m\n\u001b[1;32m      1\u001b[0m \u001b[0;32mif\u001b[0m \u001b[0m__name__\u001b[0m \u001b[0;34m==\u001b[0m \u001b[0;34m'__main__'\u001b[0m\u001b[0;34m:\u001b[0m\u001b[0;34m\u001b[0m\u001b[0m\n\u001b[0;32m----> 2\u001b[0;31m     \u001b[0;32massert\u001b[0m \u001b[0mdivisor\u001b[0m\u001b[0;34m(\u001b[0m\u001b[0;36m2520\u001b[0m\u001b[0;34m)\u001b[0m \u001b[0;34m==\u001b[0m \u001b[0;32mTrue\u001b[0m\u001b[0;34m\u001b[0m\u001b[0m\n\u001b[0m",
      "\u001b[0;31mNameError\u001b[0m: name 'divisor' is not defined"
     ]
    }
   ],
   "source": [
    "if __name__ == '__main__':\n",
    "    assert divisor(2520) == True"
   ]
  },
  {
   "cell_type": "code",
   "execution_count": 4,
   "metadata": {},
   "outputs": [],
   "source": [
    "def divisor(number):\n",
    "    return True\n",
    "\n",
    "if __name__ == '__main__':\n",
    "    assert divisor(2520) == True"
   ]
  },
  {
   "cell_type": "markdown",
   "metadata": {},
   "source": [
    "### Before to try to coding, I guess is better if I set the algorithm first:"
   ]
  },
  {
   "cell_type": "code",
   "execution_count": null,
   "metadata": {},
   "outputs": [],
   "source": [
    "\"\"\"\n",
    "l = [2, 3, ..., 10]\n",
    "while i < f:\n",
    "    if f % l[i] == 0:\n",
    "        i = i + 1\n",
    "    else:\n",
    "        return False\n",
    "return True\n",
    "\"\"\""
   ]
  },
  {
   "cell_type": "code",
   "execution_count": 35,
   "metadata": {},
   "outputs": [],
   "source": [
    "def divisor(number):\n",
    "    if number % 2 == 0 and number % 3 == 0 \\\n",
    "    and number % 4 == 0 and number % 5 == 0 \\\n",
    "    and number % 6 == 0 and number % 7 == 0 \\\n",
    "    and number % 8 == 0 and number % 9 == 0 \\\n",
    "    and number % 10 == 0:\n",
    "        return True\n",
    "    return False\n",
    "\n",
    "if __name__ == '__main__':\n",
    "    assert divisor(2520) == True\n",
    "    assert divisor(500) == False\n",
    "    assert divisor(900) == False\n",
    "    assert divisor(2000) == False\n",
    "\"\"\"I must to refactor\"\"\""
   ]
  },
  {
   "cell_type": "code",
   "execution_count": 39,
   "metadata": {},
   "outputs": [
    {
     "name": "stdout",
     "output_type": "stream",
     "text": [
      "[2, 3, 4, 5, 6, 7, 8, 9, 10]\n"
     ]
    }
   ],
   "source": [
    "x = range(2, 11)\n",
    "x = list(x)\n",
    "print(x)"
   ]
  },
  {
   "cell_type": "code",
   "execution_count": 59,
   "metadata": {},
   "outputs": [],
   "source": [
    "def divisor(number):\n",
    "    x = range(2, 11)\n",
    "    x = list(x)\n",
    "    i = 2\n",
    "    while i < len(x) + 1:\n",
    "        if number % i == 0:\n",
    "            i = i + 1\n",
    "        else:\n",
    "            return False\n",
    "    return True\n",
    "\n",
    "if __name__ == '__main__':\n",
    "    assert divisor(2520) == True\n",
    "    assert divisor(500) == False\n",
    "    assert divisor(900) == False\n",
    "    assert divisor(2000) == False\n",
    "\"\"\"I developed a code which I can check is the input number is divisible with all numbers\n",
    "inside the inverval 2 <= x < 11\"\"\""
   ]
  },
  {
   "cell_type": "markdown",
   "metadata": {},
   "source": [
    "#### Now, I must to refactor and build a code where which return the divisible number with all numbers inside the interval, instead of to check."
   ]
  },
  {
   "cell_type": "code",
   "execution_count": 55,
   "metadata": {},
   "outputs": [],
   "source": [
    "def divisor_interval():\n",
    "    number = 1\n",
    "    while divisor(number) == False:\n",
    "        number = number + 1\n",
    "    return number\n",
    "\n",
    "def divisor(number):\n",
    "    x = range(2, 11)\n",
    "    x = list(x)\n",
    "    i = 2\n",
    "    while i < len(x) + 1:\n",
    "        if number % i == 0:\n",
    "            i = i + 1\n",
    "        else:\n",
    "            return False\n",
    "    return True\n",
    "\n",
    "if __name__ == '__main__':\n",
    "    assert divisor(2520) == True\n",
    "    assert divisor(500) == False\n",
    "    assert divisor(900) == False\n",
    "    assert divisor(2000) == False"
   ]
  },
  {
   "cell_type": "code",
   "execution_count": 57,
   "metadata": {},
   "outputs": [
    {
     "data": {
      "text/plain": [
       "2520"
      ]
     },
     "execution_count": 57,
     "metadata": {},
     "output_type": "execute_result"
    }
   ],
   "source": [
    "divisor_interval()"
   ]
  },
  {
   "cell_type": "markdown",
   "metadata": {},
   "source": [
    "#### Nice!Now I must do the same, but with the new interval: 2 into 20."
   ]
  },
  {
   "cell_type": "code",
   "execution_count": 60,
   "metadata": {},
   "outputs": [],
   "source": [
    "def divisor_interval2():\n",
    "    number = 1\n",
    "    while divisor2(number) == False:\n",
    "        number = number + 1\n",
    "    return number\n",
    "\n",
    "\n",
    "def divisor2(number):\n",
    "    x = range(2, 21)\n",
    "    x = list(x)\n",
    "    i = 2\n",
    "    while i < len(x) + 1:\n",
    "        if number % i == 0:\n",
    "            i = i + 1\n",
    "        else:\n",
    "            return False\n",
    "    return True\n",
    "\n",
    "\n",
    "def divisor_interval():\n",
    "    number = 1\n",
    "    while divisor(number) == False:\n",
    "        number = number + 1\n",
    "    return number\n",
    "\n",
    "def divisor(number):\n",
    "    x = range(2, 11)\n",
    "    x = list(x)\n",
    "    i = 2\n",
    "    while i < len(x) + 1:\n",
    "        if number % i == 0:\n",
    "            i = i + 1\n",
    "        else:\n",
    "            return False\n",
    "    return True\n",
    "\n",
    "if __name__ == '__main__':\n",
    "    assert divisor(2520) == True\n",
    "    assert divisor(500) == False\n",
    "    assert divisor(900) == False\n",
    "    assert divisor(2000) == False"
   ]
  },
  {
   "cell_type": "code",
   "execution_count": 62,
   "metadata": {},
   "outputs": [
    {
     "ename": "KeyboardInterrupt",
     "evalue": "",
     "output_type": "error",
     "traceback": [
      "\u001b[0;31m---------------------------------------------------------------------------\u001b[0m",
      "\u001b[0;31mKeyboardInterrupt\u001b[0m                         Traceback (most recent call last)",
      "\u001b[0;32m<ipython-input-62-9a05d2c90ed3>\u001b[0m in \u001b[0;36m<module>\u001b[0;34m()\u001b[0m\n\u001b[0;32m----> 1\u001b[0;31m \u001b[0mdivisor_interval2\u001b[0m\u001b[0;34m(\u001b[0m\u001b[0;34m)\u001b[0m\u001b[0;34m\u001b[0m\u001b[0m\n\u001b[0m",
      "\u001b[0;32m<ipython-input-60-d18e42d2ec60>\u001b[0m in \u001b[0;36mdivisor_interval2\u001b[0;34m()\u001b[0m\n\u001b[1;32m      1\u001b[0m \u001b[0;32mdef\u001b[0m \u001b[0mdivisor_interval2\u001b[0m\u001b[0;34m(\u001b[0m\u001b[0;34m)\u001b[0m\u001b[0;34m:\u001b[0m\u001b[0;34m\u001b[0m\u001b[0m\n\u001b[1;32m      2\u001b[0m     \u001b[0mnumber\u001b[0m \u001b[0;34m=\u001b[0m \u001b[0;36m1\u001b[0m\u001b[0;34m\u001b[0m\u001b[0m\n\u001b[0;32m----> 3\u001b[0;31m     \u001b[0;32mwhile\u001b[0m \u001b[0mdivisor2\u001b[0m\u001b[0;34m(\u001b[0m\u001b[0mnumber\u001b[0m\u001b[0;34m)\u001b[0m \u001b[0;34m==\u001b[0m \u001b[0;32mFalse\u001b[0m\u001b[0;34m:\u001b[0m\u001b[0;34m\u001b[0m\u001b[0m\n\u001b[0m\u001b[1;32m      4\u001b[0m         \u001b[0mnumber\u001b[0m \u001b[0;34m=\u001b[0m \u001b[0mnumber\u001b[0m \u001b[0;34m+\u001b[0m \u001b[0;36m1\u001b[0m\u001b[0;34m\u001b[0m\u001b[0m\n\u001b[1;32m      5\u001b[0m     \u001b[0;32mreturn\u001b[0m \u001b[0mnumber\u001b[0m\u001b[0;34m\u001b[0m\u001b[0m\n",
      "\u001b[0;32m<ipython-input-60-d18e42d2ec60>\u001b[0m in \u001b[0;36mdivisor2\u001b[0;34m(number)\u001b[0m\n\u001b[1;32m      8\u001b[0m \u001b[0;32mdef\u001b[0m \u001b[0mdivisor2\u001b[0m\u001b[0;34m(\u001b[0m\u001b[0mnumber\u001b[0m\u001b[0;34m)\u001b[0m\u001b[0;34m:\u001b[0m\u001b[0;34m\u001b[0m\u001b[0m\n\u001b[1;32m      9\u001b[0m     \u001b[0mx\u001b[0m \u001b[0;34m=\u001b[0m \u001b[0mrange\u001b[0m\u001b[0;34m(\u001b[0m\u001b[0;36m2\u001b[0m\u001b[0;34m,\u001b[0m \u001b[0;36m21\u001b[0m\u001b[0;34m)\u001b[0m\u001b[0;34m\u001b[0m\u001b[0m\n\u001b[0;32m---> 10\u001b[0;31m     \u001b[0mx\u001b[0m \u001b[0;34m=\u001b[0m \u001b[0mlist\u001b[0m\u001b[0;34m(\u001b[0m\u001b[0mx\u001b[0m\u001b[0;34m)\u001b[0m\u001b[0;34m\u001b[0m\u001b[0m\n\u001b[0m\u001b[1;32m     11\u001b[0m     \u001b[0mi\u001b[0m \u001b[0;34m=\u001b[0m \u001b[0;36m2\u001b[0m\u001b[0;34m\u001b[0m\u001b[0m\n\u001b[1;32m     12\u001b[0m     \u001b[0;32mwhile\u001b[0m \u001b[0mi\u001b[0m \u001b[0;34m<\u001b[0m \u001b[0mlen\u001b[0m\u001b[0;34m(\u001b[0m\u001b[0mx\u001b[0m\u001b[0;34m)\u001b[0m \u001b[0;34m+\u001b[0m \u001b[0;36m1\u001b[0m\u001b[0;34m:\u001b[0m\u001b[0;34m\u001b[0m\u001b[0m\n",
      "\u001b[0;31mKeyboardInterrupt\u001b[0m: "
     ]
    }
   ],
   "source": [
    "divisor_interval2()"
   ]
  },
  {
   "cell_type": "code",
   "execution_count": 64,
   "metadata": {},
   "outputs": [
    {
     "name": "stdout",
     "output_type": "stream",
     "text": [
      "[2, 3, 4, 5, 6, 7, 8, 9, 10, 11, 12, 13, 14, 15, 16, 17, 18, 19, 20]\n"
     ]
    }
   ],
   "source": [
    "x = range(2, 21)\n",
    "x = list(x)\n",
    "print(x)"
   ]
  },
  {
   "cell_type": "code",
   "execution_count": 65,
   "metadata": {},
   "outputs": [],
   "source": [
    "def divisor_interval2():\n",
    "    number = 2520#because I know the number is larger than 2520\n",
    "    while divisor2(number) == False:\n",
    "        number = number + 1\n",
    "    return number\n",
    "\n",
    "\n",
    "def divisor2(number):\n",
    "    x = range(2, 21)\n",
    "    x = list(x)\n",
    "    i = 2\n",
    "    while i < len(x) + 1:\n",
    "        if number % i == 0:\n",
    "            i = i + 1\n",
    "        else:\n",
    "            return False\n",
    "    return True\n"
   ]
  },
  {
   "cell_type": "code",
   "execution_count": 66,
   "metadata": {},
   "outputs": [
    {
     "data": {
      "text/plain": [
       "232792560"
      ]
     },
     "execution_count": 66,
     "metadata": {},
     "output_type": "execute_result"
    }
   ],
   "source": [
    "divisor_interval2()"
   ]
  },
  {
   "cell_type": "markdown",
   "metadata": {},
   "source": [
    "#### It works. But I must to make it in the right way, because it is delaying so much to response"
   ]
  },
  {
   "cell_type": "code",
   "execution_count": 67,
   "metadata": {},
   "outputs": [],
   "source": [
    "def divisor_interval2():\n",
    "    number = 2520\n",
    "    while divisor2(number) == False:\n",
    "        number = number + 1\n",
    "    return number\n",
    "\n",
    "\n",
    "def divisor2(number):\n",
    "    x = range(2, 21)\n",
    "    x = list(x)\n",
    "    i = 20#fix here\n",
    "    while i  > 2:#fix here\n",
    "        if number % i == 0:\n",
    "            i = i - 1#and here\n",
    "        else:\n",
    "            return False\n",
    "    return True"
   ]
  },
  {
   "cell_type": "code",
   "execution_count": 69,
   "metadata": {},
   "outputs": [
    {
     "data": {
      "text/plain": [
       "232792560"
      ]
     },
     "execution_count": 69,
     "metadata": {},
     "output_type": "execute_result"
    }
   ],
   "source": [
    "divisor_interval2()"
   ]
  },
  {
   "cell_type": "code",
   "execution_count": 7,
   "metadata": {},
   "outputs": [],
   "source": [
    "\"\"\"I even can do it better\"\"\"\n",
    "def divisor_interval2():\n",
    "    number = 2520\n",
    "    while divisor2(number) == False:\n",
    "        number = number + 1\n",
    "    return number\n",
    "\n",
    "\n",
    "def divisor2(number):\n",
    "    x = range(2, 21)\n",
    "    x = list(x)\n",
    "    i = 20\n",
    "    while i  > 2:\n",
    "        if number % i == 0:\n",
    "            i = i - 1\n",
    "        else:\n",
    "            return False\n",
    "    return True"
   ]
  },
  {
   "cell_type": "code",
   "execution_count": 8,
   "metadata": {},
   "outputs": [
    {
     "data": {
      "text/plain": [
       "False"
      ]
     },
     "execution_count": 8,
     "metadata": {},
     "output_type": "execute_result"
    }
   ],
   "source": [
    "divisor2(400)"
   ]
  },
  {
   "cell_type": "code",
   "execution_count": 9,
   "metadata": {},
   "outputs": [],
   "source": [
    "def divisor_interval2():\n",
    "    number = 2520\n",
    "    while divisor2(number) == False:\n",
    "        number = number + 2#changing here\n",
    "    return number\n",
    "\n",
    "\n",
    "def divisor2(number):\n",
    "    x = range(2, 21)\n",
    "    x = list(x)\n",
    "    i = 20\n",
    "    while i  > 2:\n",
    "        if number % i == 0:\n",
    "            i = i - 1\n",
    "        else:\n",
    "            return False\n",
    "    return True"
   ]
  },
  {
   "cell_type": "code",
   "execution_count": 10,
   "metadata": {},
   "outputs": [
    {
     "data": {
      "text/plain": [
       "232792560"
      ]
     },
     "execution_count": 10,
     "metadata": {},
     "output_type": "execute_result"
    }
   ],
   "source": [
    "divisor_interval2()"
   ]
  },
  {
   "cell_type": "markdown",
   "metadata": {},
   "source": [
    "My code still is with a considerable delay. But for now, it is ok!"
   ]
  }
 ],
 "metadata": {
  "kernelspec": {
   "display_name": "Python 3",
   "language": "python",
   "name": "python3"
  },
  "language_info": {
   "codemirror_mode": {
    "name": "ipython",
    "version": 3
   },
   "file_extension": ".py",
   "mimetype": "text/x-python",
   "name": "python",
   "nbconvert_exporter": "python",
   "pygments_lexer": "ipython3",
   "version": "3.6.5"
  }
 },
 "nbformat": 4,
 "nbformat_minor": 2
}
