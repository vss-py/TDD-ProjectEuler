{
 "cells": [
  {
   "cell_type": "markdown",
   "metadata": {},
   "source": [
    "* # Largest prime factor"
   ]
  },
  {
   "cell_type": "markdown",
   "metadata": {},
   "source": [
    "The prime factors of 13195 are 5, 7, 13 and 29.\n",
    "\n",
    "What is the largest prime factor of the number 600851475143 ?"
   ]
  },
  {
   "cell_type": "markdown",
   "metadata": {},
   "source": [
    "### The first step is: develop a algorithm to check what are the prime factor of a given number:"
   ]
  },
  {
   "cell_type": "code",
   "execution_count": 1,
   "metadata": {},
   "outputs": [
    {
     "ename": "NameError",
     "evalue": "name 'prime' is not defined",
     "output_type": "error",
     "traceback": [
      "\u001b[0;31m---------------------------------------------------------------------------\u001b[0m",
      "\u001b[0;31mNameError\u001b[0m                                 Traceback (most recent call last)",
      "\u001b[0;32m<ipython-input-1-cd8cce482b06>\u001b[0m in \u001b[0;36m<module>\u001b[0;34m()\u001b[0m\n\u001b[1;32m      1\u001b[0m \u001b[0;32mif\u001b[0m \u001b[0m__name__\u001b[0m \u001b[0;34m==\u001b[0m \u001b[0;34m'__main__'\u001b[0m\u001b[0;34m:\u001b[0m\u001b[0;34m\u001b[0m\u001b[0m\n\u001b[0;32m----> 2\u001b[0;31m     \u001b[0;32massert\u001b[0m \u001b[0mprime\u001b[0m\u001b[0;34m(\u001b[0m\u001b[0;36m13195\u001b[0m\u001b[0;34m)\u001b[0m \u001b[0;34m==\u001b[0m \u001b[0;34m[\u001b[0m\u001b[0;36m5\u001b[0m\u001b[0;34m,\u001b[0m \u001b[0;36m7\u001b[0m\u001b[0;34m,\u001b[0m \u001b[0;36m13\u001b[0m\u001b[0;34m,\u001b[0m \u001b[0;36m29\u001b[0m\u001b[0;34m]\u001b[0m\u001b[0;34m\u001b[0m\u001b[0m\n\u001b[0m",
      "\u001b[0;31mNameError\u001b[0m: name 'prime' is not defined"
     ]
    }
   ],
   "source": [
    "if __name__ == '__main__':\n",
    "    assert prime(13195) == [5, 7, 13, 29]"
   ]
  },
  {
   "cell_type": "code",
   "execution_count": 2,
   "metadata": {},
   "outputs": [],
   "source": [
    "def prime(n):\n",
    "    return [5, 7, 13, 29]\n",
    "\n",
    "if __name__ == '__main__':\n",
    "    assert prime(13195) == [5, 7, 13, 29]"
   ]
  },
  {
   "cell_type": "markdown",
   "metadata": {},
   "source": [
    "### I gues is better if I develop a code to check if the given number is prime, at least meanwhile:"
   ]
  },
  {
   "cell_type": "code",
   "execution_count": 4,
   "metadata": {},
   "outputs": [],
   "source": [
    "def prime(n):\n",
    "    if n == 5 or 7 or 13 or 29:\n",
    "        return True\n",
    "    return False\n",
    "\n",
    "if __name__ == '__main__':\n",
    "    assert prime(5) == True\n",
    "    assert prime(7) == True\n",
    "    assert prime(13)== True\n",
    "    assert prime(29) == True"
   ]
  },
  {
   "cell_type": "code",
   "execution_count": 19,
   "metadata": {},
   "outputs": [
    {
     "ename": "AssertionError",
     "evalue": "",
     "output_type": "error",
     "traceback": [
      "\u001b[0;31m---------------------------------------------------------------------------\u001b[0m",
      "\u001b[0;31mAssertionError\u001b[0m                            Traceback (most recent call last)",
      "\u001b[0;32m<ipython-input-19-cc8af594d7a0>\u001b[0m in \u001b[0;36m<module>\u001b[0;34m()\u001b[0m\n\u001b[1;32m      8\u001b[0m \u001b[0;34m\u001b[0m\u001b[0m\n\u001b[1;32m      9\u001b[0m \u001b[0;32mif\u001b[0m \u001b[0m__name__\u001b[0m \u001b[0;34m==\u001b[0m \u001b[0;34m'__main__'\u001b[0m\u001b[0;34m:\u001b[0m\u001b[0;34m\u001b[0m\u001b[0m\n\u001b[0;32m---> 10\u001b[0;31m     \u001b[0;32massert\u001b[0m \u001b[0mprime\u001b[0m\u001b[0;34m(\u001b[0m\u001b[0;36m5\u001b[0m\u001b[0;34m)\u001b[0m \u001b[0;34m==\u001b[0m \u001b[0;32mTrue\u001b[0m\u001b[0;34m\u001b[0m\u001b[0m\n\u001b[0m\u001b[1;32m     11\u001b[0m     \u001b[0;32massert\u001b[0m \u001b[0mprime\u001b[0m\u001b[0;34m(\u001b[0m\u001b[0;36m7\u001b[0m\u001b[0;34m)\u001b[0m \u001b[0;34m==\u001b[0m \u001b[0;32mTrue\u001b[0m\u001b[0;34m\u001b[0m\u001b[0m\n\u001b[1;32m     12\u001b[0m     \u001b[0;32massert\u001b[0m \u001b[0mprime\u001b[0m\u001b[0;34m(\u001b[0m\u001b[0;36m13\u001b[0m\u001b[0;34m)\u001b[0m\u001b[0;34m==\u001b[0m \u001b[0;32mTrue\u001b[0m\u001b[0;34m\u001b[0m\u001b[0m\n",
      "\u001b[0;31mAssertionError\u001b[0m: "
     ]
    }
   ],
   "source": [
    "def prime(n):\n",
    "    i = 1\n",
    "    while i < n:\n",
    "        if n % i == 0:\n",
    "            return False\n",
    "        i = i + 1\n",
    "    return True\n",
    "\n",
    "if __name__ == '__main__':\n",
    "    assert prime(5) == True\n",
    "    assert prime(7) == True\n",
    "    assert prime(13)== True\n",
    "    assert prime(29) == True"
   ]
  },
  {
   "cell_type": "code",
   "execution_count": 21,
   "metadata": {},
   "outputs": [
    {
     "name": "stdout",
     "output_type": "stream",
     "text": [
      "True\n",
      "False\n",
      "False\n"
     ]
    }
   ],
   "source": [
    "print(prime(1))\n",
    "print(prime(2))\n",
    "print(prime(3))\n",
    "\"\"\"i must be different from 1\"\"\""
   ]
  },
  {
   "cell_type": "code",
   "execution_count": 30,
   "metadata": {
    "scrolled": true
   },
   "outputs": [],
   "source": [
    "def prime(n):\n",
    "    i = 2\n",
    "    while i < n:\n",
    "        if n % i == 0:\n",
    "            return False\n",
    "        i = i + 1\n",
    "    return True\n",
    "\n",
    "if __name__ == '__main__':\n",
    "    assert prime(5) == True\n",
    "    assert prime(7) == True\n",
    "    assert prime(13)== True\n",
    "    assert prime(29) == True\n",
    "    assert prime(2) == True\n",
    "    assert prime(4) == False\n",
    "    assert prime(3748612) == False\n",
    "\"\"\"I am doing it by the easiest way.\"\"\""
   ]
  },
  {
   "cell_type": "code",
   "execution_count": 32,
   "metadata": {},
   "outputs": [
    {
     "ename": "AssertionError",
     "evalue": "",
     "output_type": "error",
     "traceback": [
      "\u001b[0;31m---------------------------------------------------------------------------\u001b[0m",
      "\u001b[0;31mAssertionError\u001b[0m                            Traceback (most recent call last)",
      "\u001b[0;32m<ipython-input-32-0b4f52b99429>\u001b[0m in \u001b[0;36m<module>\u001b[0;34m()\u001b[0m\n\u001b[1;32m     15\u001b[0m     \u001b[0;32massert\u001b[0m \u001b[0mprime\u001b[0m\u001b[0;34m(\u001b[0m\u001b[0;36m4\u001b[0m\u001b[0;34m)\u001b[0m \u001b[0;34m==\u001b[0m \u001b[0;32mFalse\u001b[0m\u001b[0;34m\u001b[0m\u001b[0m\n\u001b[1;32m     16\u001b[0m     \u001b[0;32massert\u001b[0m \u001b[0mprime\u001b[0m\u001b[0;34m(\u001b[0m\u001b[0;36m3748612\u001b[0m\u001b[0;34m)\u001b[0m \u001b[0;34m==\u001b[0m \u001b[0;32mFalse\u001b[0m\u001b[0;34m\u001b[0m\u001b[0m\n\u001b[0;32m---> 17\u001b[0;31m     \u001b[0;32massert\u001b[0m \u001b[0mprime\u001b[0m\u001b[0;34m(\u001b[0m\u001b[0;36m0\u001b[0m\u001b[0;34m)\u001b[0m \u001b[0;34m==\u001b[0m \u001b[0;32mFalse\u001b[0m\u001b[0;34m\u001b[0m\u001b[0m\n\u001b[0m\u001b[1;32m     18\u001b[0m     \u001b[0;32massert\u001b[0m \u001b[0mprime\u001b[0m\u001b[0;34m(\u001b[0m\u001b[0;36m1\u001b[0m\u001b[0;34m)\u001b[0m \u001b[0;34m==\u001b[0m \u001b[0;32mFalse\u001b[0m\u001b[0;34m\u001b[0m\u001b[0m\n",
      "\u001b[0;31mAssertionError\u001b[0m: "
     ]
    }
   ],
   "source": [
    "def prime(n):\n",
    "    i = 2\n",
    "    while i < n:\n",
    "        if n % i == 0:\n",
    "            return False\n",
    "        i = i + 1\n",
    "    return True\n",
    "\n",
    "if __name__ == '__main__':\n",
    "    assert prime(5) == True\n",
    "    assert prime(7) == True\n",
    "    assert prime(13)== True\n",
    "    assert prime(29) == True\n",
    "    assert prime(2) == True\n",
    "    assert prime(4) == False\n",
    "    assert prime(3748612) == False\n",
    "    assert prime(0) == False\n",
    "    assert prime(1) == False\n"
   ]
  },
  {
   "cell_type": "code",
   "execution_count": 37,
   "metadata": {},
   "outputs": [],
   "source": [
    "def prime(n):\n",
    "    if n == 0 or n == 1:\n",
    "        return False\n",
    "    i = 2\n",
    "    while i < n:\n",
    "        if n % i == 0:\n",
    "            return False\n",
    "        i = i + 1\n",
    "    return True\n",
    "\n",
    "if __name__ == '__main__':\n",
    "    assert prime(5) == True\n",
    "    assert prime(7) == True\n",
    "    assert prime(13)== True\n",
    "    assert prime(29) == True\n",
    "    assert prime(2) == True\n",
    "    assert prime(4) == False\n",
    "    assert prime(3748612) == False\n",
    "    assert prime(0) == False\n",
    "\"\"\"Now my code to check if the number is a prime number is be ok\"\"\""
   ]
  },
  {
   "cell_type": "markdown",
   "metadata": {},
   "source": [
    "### We have 600851475143, and we want to find what is the largest prime number which I can divide this number by."
   ]
  },
  {
   "cell_type": "markdown",
   "metadata": {},
   "source": [
    "So, my idea now is to create a list with every prime number between 1, 600851475143."
   ]
  },
  {
   "cell_type": "markdown",
   "metadata": {},
   "source": [
    "My idea now is make a while to run prime(i) while i < biggestnumber, if i is a prime number, append i to a list. Simple like that."
   ]
  },
  {
   "cell_type": "code",
   "execution_count": 1,
   "metadata": {},
   "outputs": [
    {
     "ename": "NameError",
     "evalue": "name 'prime_interval' is not defined",
     "output_type": "error",
     "traceback": [
      "\u001b[0;31m---------------------------------------------------------------------------\u001b[0m",
      "\u001b[0;31mNameError\u001b[0m                                 Traceback (most recent call last)",
      "\u001b[0;32m<ipython-input-1-28f177224322>\u001b[0m in \u001b[0;36m<module>\u001b[0;34m()\u001b[0m\n\u001b[1;32m     19\u001b[0m     \u001b[0;32massert\u001b[0m \u001b[0mprime\u001b[0m\u001b[0;34m(\u001b[0m\u001b[0;36m3748612\u001b[0m\u001b[0;34m)\u001b[0m \u001b[0;34m==\u001b[0m \u001b[0;32mFalse\u001b[0m\u001b[0;34m\u001b[0m\u001b[0m\n\u001b[1;32m     20\u001b[0m     \u001b[0;32massert\u001b[0m \u001b[0mprime\u001b[0m\u001b[0;34m(\u001b[0m\u001b[0;36m0\u001b[0m\u001b[0;34m)\u001b[0m \u001b[0;34m==\u001b[0m \u001b[0;32mFalse\u001b[0m\u001b[0;34m\u001b[0m\u001b[0m\n\u001b[0;32m---> 21\u001b[0;31m     \u001b[0;32massert\u001b[0m \u001b[0mprime_interval\u001b[0m\u001b[0;34m(\u001b[0m\u001b[0;36m1\u001b[0m\u001b[0;34m)\u001b[0m \u001b[0;34m==\u001b[0m \u001b[0mbool\u001b[0m\u001b[0;34m\u001b[0m\u001b[0m\n\u001b[0m",
      "\u001b[0;31mNameError\u001b[0m: name 'prime_interval' is not defined"
     ]
    }
   ],
   "source": [
    "def prime(n):\n",
    "    if n == 0 or n == 1:\n",
    "        return False\n",
    "    i = 2\n",
    "    while i < n:\n",
    "        if n % i == 0:\n",
    "            return False\n",
    "        i = i + 1\n",
    "    return True\n",
    "\n",
    "\n",
    "if __name__ == '__main__':\n",
    "    assert prime(5) == True\n",
    "    assert prime(7) == True\n",
    "    assert prime(13)== True\n",
    "    assert prime(29) == True\n",
    "    assert prime(2) == True\n",
    "    assert prime(4) == False\n",
    "    assert prime(3748612) == False\n",
    "    assert prime(0) == False\n",
    "    assert prime_interval(1) == bool"
   ]
  },
  {
   "cell_type": "code",
   "execution_count": 3,
   "metadata": {},
   "outputs": [],
   "source": [
    "def prime(n):\n",
    "    if n == 0 or n == 1:\n",
    "        return False\n",
    "    i = 2\n",
    "    while i < n:\n",
    "        if n % i == 0:\n",
    "            return False\n",
    "        i = i + 1\n",
    "    return True\n",
    "\n",
    "def prime_interval(m):\n",
    "    return type(prime(m))\n",
    "\n",
    "\n",
    "if __name__ == '__main__':\n",
    "    assert prime(5) == True\n",
    "    assert prime(7) == True\n",
    "    assert prime(13)== True\n",
    "    assert prime(29) == True\n",
    "    assert prime(2) == True\n",
    "    assert prime(4) == False\n",
    "    assert prime(3748612) == False\n",
    "    assert prime(0) == False\n",
    "    assert prime_interval(1) == bool\n",
    "    assert prime_interval(5) == bool\n",
    "    assert prime_interval(12341) == bool"
   ]
  },
  {
   "cell_type": "code",
   "execution_count": 5,
   "metadata": {},
   "outputs": [],
   "source": [
    "def prime(n):\n",
    "    if n == 0 or n == 1:\n",
    "        return False\n",
    "    i = 2\n",
    "    while i < n:\n",
    "        if n % i == 0:\n",
    "            return False\n",
    "        i = i + 1\n",
    "    return(i)#changing here\n",
    "\n",
    "\"\"\"\n",
    "def prime_interval(m):\n",
    "    return type(prime(m))\n",
    "\"\"\"\n",
    "if __name__ == '__main__':\n",
    "    assert prime(5) == 5#and here\n",
    "    assert prime(7) == 7#\n",
    "    assert prime(13)== 13#\n",
    "    assert prime(29) == 29#\n",
    "    assert prime(2) == 2#\n",
    "    assert prime(4) == False\n",
    "    assert prime(3748612) == False\n",
    "    assert prime(0) == False\n",
    "    #assert prime_interval(1) == bool\n",
    "    #assert prime_interval(5) == bool\n",
    "    #assert prime_interval(12341) == bool"
   ]
  },
  {
   "cell_type": "code",
   "execution_count": 11,
   "metadata": {},
   "outputs": [
    {
     "ename": "AssertionError",
     "evalue": "",
     "output_type": "error",
     "traceback": [
      "\u001b[0;31m---------------------------------------------------------------------------\u001b[0m",
      "\u001b[0;31mAssertionError\u001b[0m                            Traceback (most recent call last)",
      "\u001b[0;32m<ipython-input-11-074d83418fab>\u001b[0m in \u001b[0;36m<module>\u001b[0;34m()\u001b[0m\n\u001b[1;32m     22\u001b[0m     \u001b[0;32massert\u001b[0m \u001b[0mprime\u001b[0m\u001b[0;34m(\u001b[0m\u001b[0;36m3748612\u001b[0m\u001b[0;34m)\u001b[0m \u001b[0;34m==\u001b[0m \u001b[0;32mFalse\u001b[0m\u001b[0;34m\u001b[0m\u001b[0m\n\u001b[1;32m     23\u001b[0m     \u001b[0;32massert\u001b[0m \u001b[0mprime\u001b[0m\u001b[0;34m(\u001b[0m\u001b[0;36m0\u001b[0m\u001b[0;34m)\u001b[0m \u001b[0;34m==\u001b[0m \u001b[0;32mFalse\u001b[0m\u001b[0;34m\u001b[0m\u001b[0m\n\u001b[0;32m---> 24\u001b[0;31m     \u001b[0;32massert\u001b[0m \u001b[0mprime_interval\u001b[0m\u001b[0;34m(\u001b[0m\u001b[0;36m1\u001b[0m\u001b[0;34m)\u001b[0m \u001b[0;34m==\u001b[0m \u001b[0;34m[\u001b[0m\u001b[0;36m1\u001b[0m\u001b[0;34m]\u001b[0m\u001b[0;34m\u001b[0m\u001b[0m\n\u001b[0m",
      "\u001b[0;31mAssertionError\u001b[0m: "
     ]
    }
   ],
   "source": [
    "def prime(n):\n",
    "    if n == 0 or n == 1:\n",
    "        return False\n",
    "    i = 2\n",
    "    while i < n:\n",
    "        if n % i == 0:\n",
    "            return False\n",
    "        i = i + 1\n",
    "    return(i)\n",
    "\n",
    "\n",
    "def prime_interval(m):\n",
    "    return type(prime(m))\n",
    "\n",
    "if __name__ == '__main__':\n",
    "    assert prime(5) == 5#and here\n",
    "    assert prime(7) == 7#\n",
    "    assert prime(13)== 13#\n",
    "    assert prime(29) == 29#\n",
    "    assert prime(2) == 2#\n",
    "    assert prime(4) == False\n",
    "    assert prime(3748612) == False\n",
    "    assert prime(0) == False\n",
    "    assert prime_interval(1) == [1]"
   ]
  },
  {
   "cell_type": "code",
   "execution_count": 12,
   "metadata": {},
   "outputs": [],
   "source": [
    "def prime(n):\n",
    "    if n == 0 or n == 1:\n",
    "        return False\n",
    "    i = 2\n",
    "    while i < n:\n",
    "        if n % i == 0:\n",
    "            return False\n",
    "        i = i + 1\n",
    "    return(i)\n",
    "\n",
    "\n",
    "def prime_interval(m):\n",
    "    return[1]\n",
    "\n",
    "if __name__ == '__main__':\n",
    "    assert prime(5) == 5\n",
    "    assert prime(7) == 7\n",
    "    assert prime(13)== 13\n",
    "    assert prime(29) == 29\n",
    "    assert prime(2) == 2\n",
    "    assert prime(4) == False\n",
    "    assert prime(3748612) == False\n",
    "    assert prime(0) == False\n",
    "    assert prime_interval(1) == [2]"
   ]
  },
  {
   "cell_type": "code",
   "execution_count": 15,
   "metadata": {},
   "outputs": [
    {
     "ename": "AssertionError",
     "evalue": "",
     "output_type": "error",
     "traceback": [
      "\u001b[0;31m---------------------------------------------------------------------------\u001b[0m",
      "\u001b[0;31mAssertionError\u001b[0m                            Traceback (most recent call last)",
      "\u001b[0;32m<ipython-input-15-2f4c2c50a1ed>\u001b[0m in \u001b[0;36m<module>\u001b[0;34m()\u001b[0m\n\u001b[1;32m     22\u001b[0m     \u001b[0;32massert\u001b[0m \u001b[0mprime\u001b[0m\u001b[0;34m(\u001b[0m\u001b[0;36m3748612\u001b[0m\u001b[0;34m)\u001b[0m \u001b[0;34m==\u001b[0m \u001b[0;32mFalse\u001b[0m\u001b[0;34m\u001b[0m\u001b[0m\n\u001b[1;32m     23\u001b[0m     \u001b[0;32massert\u001b[0m \u001b[0mprime\u001b[0m\u001b[0;34m(\u001b[0m\u001b[0;36m0\u001b[0m\u001b[0;34m)\u001b[0m \u001b[0;34m==\u001b[0m \u001b[0;32mFalse\u001b[0m\u001b[0;34m\u001b[0m\u001b[0m\n\u001b[0;32m---> 24\u001b[0;31m     \u001b[0;32massert\u001b[0m \u001b[0mprime_interval\u001b[0m\u001b[0;34m(\u001b[0m\u001b[0;36m2\u001b[0m\u001b[0;34m)\u001b[0m \u001b[0;34m==\u001b[0m \u001b[0;34m[\u001b[0m\u001b[0;36m2\u001b[0m\u001b[0;34m]\u001b[0m\u001b[0;34m\u001b[0m\u001b[0m\n\u001b[0m\u001b[1;32m     25\u001b[0m     \u001b[0;32massert\u001b[0m \u001b[0mprime_interval\u001b[0m\u001b[0;34m(\u001b[0m\u001b[0;36m3\u001b[0m\u001b[0;34m)\u001b[0m \u001b[0;34m==\u001b[0m \u001b[0;34m[\u001b[0m\u001b[0;36m2\u001b[0m\u001b[0;34m,\u001b[0m \u001b[0;36m3\u001b[0m\u001b[0;34m]\u001b[0m\u001b[0;34m\u001b[0m\u001b[0m\n",
      "\u001b[0;31mAssertionError\u001b[0m: "
     ]
    }
   ],
   "source": [
    "def prime(n):\n",
    "    if n == 0 or n == 1:\n",
    "        return False\n",
    "    i = 2\n",
    "    while i < n:\n",
    "        if n % i == 0:\n",
    "            return False\n",
    "        i = i + 1\n",
    "    return(i)\n",
    "\n",
    "\n",
    "def prime_interval(m):\n",
    "    return[1]\n",
    "\n",
    "if __name__ == '__main__':\n",
    "    assert prime(5) == 5\n",
    "    assert prime(7) == 7\n",
    "    assert prime(13)== 13\n",
    "    assert prime(29) == 29\n",
    "    assert prime(2) == 2\n",
    "    assert prime(4) == False\n",
    "    assert prime(3748612) == False\n",
    "    assert prime(0) == False\n",
    "    assert prime_interval(2) == [2]\n",
    "    assert prime_interval(3) == [2, 3] "
   ]
  },
  {
   "cell_type": "code",
   "execution_count": 17,
   "metadata": {},
   "outputs": [
    {
     "ename": "AssertionError",
     "evalue": "",
     "output_type": "error",
     "traceback": [
      "\u001b[0;31m---------------------------------------------------------------------------\u001b[0m",
      "\u001b[0;31mAssertionError\u001b[0m                            Traceback (most recent call last)",
      "\u001b[0;32m<ipython-input-17-4ba48b9cb209>\u001b[0m in \u001b[0;36m<module>\u001b[0;34m()\u001b[0m\n\u001b[1;32m     26\u001b[0m     \u001b[0;32massert\u001b[0m \u001b[0mprime_interval\u001b[0m\u001b[0;34m(\u001b[0m\u001b[0;36m2\u001b[0m\u001b[0;34m)\u001b[0m \u001b[0;34m==\u001b[0m \u001b[0;34m[\u001b[0m\u001b[0;36m2\u001b[0m\u001b[0;34m]\u001b[0m\u001b[0;34m\u001b[0m\u001b[0m\n\u001b[1;32m     27\u001b[0m     \u001b[0;32massert\u001b[0m \u001b[0mprime_interval\u001b[0m\u001b[0;34m(\u001b[0m\u001b[0;36m3\u001b[0m\u001b[0;34m)\u001b[0m \u001b[0;34m==\u001b[0m \u001b[0;34m[\u001b[0m\u001b[0;36m2\u001b[0m\u001b[0;34m,\u001b[0m \u001b[0;36m3\u001b[0m\u001b[0;34m]\u001b[0m\u001b[0;34m\u001b[0m\u001b[0m\n\u001b[0;32m---> 28\u001b[0;31m     \u001b[0;32massert\u001b[0m \u001b[0mprime_interval\u001b[0m\u001b[0;34m(\u001b[0m\u001b[0;36m4\u001b[0m\u001b[0;34m)\u001b[0m \u001b[0;34m==\u001b[0m \u001b[0;34m[\u001b[0m\u001b[0;36m2\u001b[0m\u001b[0;34m,\u001b[0m \u001b[0;36m3\u001b[0m\u001b[0;34m]\u001b[0m\u001b[0;34m\u001b[0m\u001b[0m\n\u001b[0m",
      "\u001b[0;31mAssertionError\u001b[0m: "
     ]
    }
   ],
   "source": [
    "def prime(n):\n",
    "    if n == 0 or n == 1:\n",
    "        return False\n",
    "    i = 2\n",
    "    while i < n:\n",
    "        if n % i == 0:\n",
    "            return False\n",
    "        i = i + 1\n",
    "    return(i)\n",
    "\n",
    "\n",
    "def prime_interval(m):\n",
    "    if m == 3:\n",
    "        return[2, 3]\n",
    "    return[2]\n",
    "\n",
    "if __name__ == '__main__':\n",
    "    assert prime(5) == 5\n",
    "    assert prime(7) == 7\n",
    "    assert prime(13)== 13\n",
    "    assert prime(29) == 29\n",
    "    assert prime(2) == 2\n",
    "    assert prime(4) == False\n",
    "    assert prime(3748612) == False\n",
    "    assert prime(0) == False\n",
    "    assert prime_interval(2) == [2]\n",
    "    assert prime_interval(3) == [2, 3]\n",
    "    assert prime_interval(4) == [2, 3]"
   ]
  },
  {
   "cell_type": "code",
   "execution_count": 18,
   "metadata": {},
   "outputs": [
    {
     "ename": "AssertionError",
     "evalue": "",
     "output_type": "error",
     "traceback": [
      "\u001b[0;31m---------------------------------------------------------------------------\u001b[0m",
      "\u001b[0;31mAssertionError\u001b[0m                            Traceback (most recent call last)",
      "\u001b[0;32m<ipython-input-18-01f654a458e5>\u001b[0m in \u001b[0;36m<module>\u001b[0;34m()\u001b[0m\n\u001b[1;32m     33\u001b[0m     \u001b[0;32massert\u001b[0m \u001b[0mprime\u001b[0m\u001b[0;34m(\u001b[0m\u001b[0;36m3748612\u001b[0m\u001b[0;34m)\u001b[0m \u001b[0;34m==\u001b[0m \u001b[0;32mFalse\u001b[0m\u001b[0;34m\u001b[0m\u001b[0m\n\u001b[1;32m     34\u001b[0m     \u001b[0;32massert\u001b[0m \u001b[0mprime\u001b[0m\u001b[0;34m(\u001b[0m\u001b[0;36m0\u001b[0m\u001b[0;34m)\u001b[0m \u001b[0;34m==\u001b[0m \u001b[0;32mFalse\u001b[0m\u001b[0;34m\u001b[0m\u001b[0m\n\u001b[0;32m---> 35\u001b[0;31m     \u001b[0;32massert\u001b[0m \u001b[0mprime_interval\u001b[0m\u001b[0;34m(\u001b[0m\u001b[0;36m2\u001b[0m\u001b[0;34m)\u001b[0m \u001b[0;34m==\u001b[0m \u001b[0;34m[\u001b[0m\u001b[0;36m2\u001b[0m\u001b[0;34m]\u001b[0m\u001b[0;34m\u001b[0m\u001b[0m\n\u001b[0m\u001b[1;32m     36\u001b[0m     \u001b[0;32massert\u001b[0m \u001b[0mprime_interval\u001b[0m\u001b[0;34m(\u001b[0m\u001b[0;36m3\u001b[0m\u001b[0;34m)\u001b[0m \u001b[0;34m==\u001b[0m \u001b[0;34m[\u001b[0m\u001b[0;36m2\u001b[0m\u001b[0;34m,\u001b[0m \u001b[0;36m3\u001b[0m\u001b[0;34m]\u001b[0m\u001b[0;34m\u001b[0m\u001b[0m\n\u001b[1;32m     37\u001b[0m     \u001b[0;32massert\u001b[0m \u001b[0mprime_interval\u001b[0m\u001b[0;34m(\u001b[0m\u001b[0;36m4\u001b[0m\u001b[0;34m)\u001b[0m \u001b[0;34m==\u001b[0m \u001b[0;34m[\u001b[0m\u001b[0;36m2\u001b[0m\u001b[0;34m,\u001b[0m \u001b[0;36m3\u001b[0m\u001b[0;34m]\u001b[0m\u001b[0;34m\u001b[0m\u001b[0m\n",
      "\u001b[0;31mAssertionError\u001b[0m: "
     ]
    }
   ],
   "source": [
    "def prime(n):\n",
    "    if n == 0 or n == 1:\n",
    "        return False\n",
    "    i = 2\n",
    "    while i < n:\n",
    "        if n % i == 0:\n",
    "            return False\n",
    "        i = i + 1\n",
    "    return(i)\n",
    "\n",
    "\n",
    "def prime_interval(m):\n",
    "    prime_list = []\n",
    "    i = 0\n",
    "    if m <= 2:\n",
    "        return False\n",
    "    if m > 2:\n",
    "        while i < m:\n",
    "            if type(prime(i)) == int:\n",
    "                prime_list.append(i)\n",
    "                i = i + 1\n",
    "            i = i + 1\n",
    "        return(prime_list)\n",
    "    return[2]\n",
    "\n",
    "if __name__ == '__main__':\n",
    "    assert prime(5) == 5\n",
    "    assert prime(7) == 7\n",
    "    assert prime(13)== 13\n",
    "    assert prime(29) == 29\n",
    "    assert prime(2) == 2\n",
    "    assert prime(4) == False\n",
    "    assert prime(3748612) == False\n",
    "    assert prime(0) == False\n",
    "    assert prime_interval(2) == [2]\n",
    "    assert prime_interval(3) == [2, 3]\n",
    "    assert prime_interval(4) == [2, 3]"
   ]
  },
  {
   "cell_type": "code",
   "execution_count": 21,
   "metadata": {},
   "outputs": [
    {
     "data": {
      "text/plain": [
       "[2]"
      ]
     },
     "execution_count": 21,
     "metadata": {},
     "output_type": "execute_result"
    }
   ],
   "source": [
    "prime_interval(3)\n",
    "\"\"\"So, I need to change the value in my tests\"\"\""
   ]
  },
  {
   "cell_type": "code",
   "execution_count": 27,
   "metadata": {},
   "outputs": [
    {
     "ename": "AssertionError",
     "evalue": "",
     "output_type": "error",
     "traceback": [
      "\u001b[0;31m---------------------------------------------------------------------------\u001b[0m",
      "\u001b[0;31mAssertionError\u001b[0m                            Traceback (most recent call last)",
      "\u001b[0;32m<ipython-input-27-dd2ffa74097a>\u001b[0m in \u001b[0;36m<module>\u001b[0;34m()\u001b[0m\n\u001b[1;32m     34\u001b[0m     \u001b[0;32massert\u001b[0m \u001b[0mprime\u001b[0m\u001b[0;34m(\u001b[0m\u001b[0;36m0\u001b[0m\u001b[0;34m)\u001b[0m \u001b[0;34m==\u001b[0m \u001b[0;32mFalse\u001b[0m\u001b[0;34m\u001b[0m\u001b[0m\n\u001b[1;32m     35\u001b[0m     \u001b[0;32massert\u001b[0m \u001b[0mprime_interval\u001b[0m\u001b[0;34m(\u001b[0m\u001b[0;36m3\u001b[0m\u001b[0;34m)\u001b[0m \u001b[0;34m==\u001b[0m \u001b[0;34m[\u001b[0m\u001b[0;36m2\u001b[0m\u001b[0;34m]\u001b[0m\u001b[0;34m\u001b[0m\u001b[0m\n\u001b[0;32m---> 36\u001b[0;31m     \u001b[0;32massert\u001b[0m \u001b[0mprime_interval\u001b[0m\u001b[0;34m(\u001b[0m\u001b[0;36m4\u001b[0m\u001b[0;34m)\u001b[0m \u001b[0;34m==\u001b[0m \u001b[0;34m[\u001b[0m\u001b[0;36m2\u001b[0m\u001b[0;34m,\u001b[0m \u001b[0;36m3\u001b[0m\u001b[0;34m]\u001b[0m\u001b[0;34m\u001b[0m\u001b[0m\n\u001b[0m\u001b[1;32m     37\u001b[0m     \u001b[0;32massert\u001b[0m \u001b[0mprime_interval\u001b[0m\u001b[0;34m(\u001b[0m\u001b[0;36m5\u001b[0m\u001b[0;34m)\u001b[0m \u001b[0;34m==\u001b[0m \u001b[0;34m[\u001b[0m\u001b[0;36m2\u001b[0m\u001b[0;34m,\u001b[0m \u001b[0;36m3\u001b[0m\u001b[0;34m]\u001b[0m\u001b[0;34m\u001b[0m\u001b[0m\n",
      "\u001b[0;31mAssertionError\u001b[0m: "
     ]
    }
   ],
   "source": [
    "def prime(n):\n",
    "    if n == 0 or n == 1:\n",
    "        return False\n",
    "    i = 2\n",
    "    while i < n:\n",
    "        if n % i == 0:\n",
    "            return False\n",
    "        i = i + 1\n",
    "    return(i)\n",
    "\n",
    "\n",
    "def prime_interval(m):\n",
    "    prime_list = []\n",
    "    i = 0\n",
    "    if m <= 2:\n",
    "        return False\n",
    "    if m > 2:\n",
    "        while i < m:\n",
    "            if type(prime(i)) == int:\n",
    "                prime_list.append(i)\n",
    "                i = i + 1\n",
    "            i = i + 1\n",
    "        return(prime_list)\n",
    "    return[2]\n",
    "\n",
    "if __name__ == '__main__':\n",
    "    assert prime(5) == 5\n",
    "    assert prime(7) == 7\n",
    "    assert prime(13)== 13\n",
    "    assert prime(29) == 29\n",
    "    assert prime(2) == 2\n",
    "    assert prime(4) == False\n",
    "    assert prime(3748612) == False\n",
    "    assert prime(0) == False\n",
    "    assert prime_interval(3) == [2]\n",
    "    assert prime_interval(4) == [2, 3]\n",
    "    assert prime_interval(5) == [2, 3]"
   ]
  },
  {
   "cell_type": "code",
   "execution_count": 35,
   "metadata": {},
   "outputs": [
    {
     "name": "stdout",
     "output_type": "stream",
     "text": [
      "[2]\n",
      "[2]\n",
      "[2]\n"
     ]
    }
   ],
   "source": [
    "print(prime_interval(3))\n",
    "print(prime_interval(4))\n",
    "print(prime_interval(5))\n",
    "\"\"\"I noticed that there a problem with my loop\"\"\""
   ]
  },
  {
   "cell_type": "code",
   "execution_count": 1,
   "metadata": {},
   "outputs": [],
   "source": [
    "def prime(n):\n",
    "    if n == 0 or n == 1:\n",
    "        return False\n",
    "    i = 2\n",
    "    while i < n:\n",
    "        if n % i == 0:\n",
    "            return False\n",
    "        i = i + 1\n",
    "    return(i)\n",
    "\n",
    "\n",
    "def prime_interval(m):\n",
    "    prime_list = []\n",
    "    i = 0\n",
    "    if m <= 2:\n",
    "        return False\n",
    "    if m > 2:\n",
    "        while i < m:\n",
    "            if type(prime(i)) == int:\n",
    "                prime_list.append(i)\n",
    "                i = i + 1\n",
    "            else:#add this\n",
    "                i = i + 1#and indent this\n",
    "        return(prime_list)\n",
    "    return[2]\n",
    "\n",
    "if __name__ == '__main__':\n",
    "    assert prime(5) == 5\n",
    "    assert prime(7) == 7\n",
    "    assert prime(13)== 13\n",
    "    assert prime(29) == 29\n",
    "    assert prime(2) == 2\n",
    "    assert prime(4) == False\n",
    "    assert prime(3748612) == False\n",
    "    assert prime(0) == False\n",
    "    assert prime_interval(3) == [2]\n",
    "    assert prime_interval(4) == [2, 3]\n",
    "    assert prime_interval(5) == [2, 3]"
   ]
  },
  {
   "cell_type": "code",
   "execution_count": 3,
   "metadata": {},
   "outputs": [
    {
     "data": {
      "text/plain": [
       "[2, 3, 5, 7, 11, 13, 17, 19, 23, 29, 31, 37, 41, 43, 47, 53, 59]"
      ]
     },
     "execution_count": 3,
     "metadata": {},
     "output_type": "execute_result"
    }
   ],
   "source": [
    "prime_interval(60)\n",
    "\"\"\"Therefore I can know what is the prime number between 1 and the given number.\"\"\""
   ]
  },
  {
   "cell_type": "markdown",
   "metadata": {},
   "source": [
    "### There is a problem in this way that my code works: if a try to input a very large number, the code need to take a long time to reach this number. So, if I try to do it in descending order?"
   ]
  },
  {
   "cell_type": "code",
   "execution_count": 3,
   "metadata": {},
   "outputs": [],
   "source": [
    "def prime(n):\n",
    "    if n == 0 or n == 1:\n",
    "        return False\n",
    "    i = 2\n",
    "    while i < n:\n",
    "        if n % i == 0:\n",
    "            return False\n",
    "        i = i + 1\n",
    "    return(i)\n",
    "\n",
    "def prime_interval(m):\n",
    "    prime_list = []\n",
    "    i = 0\n",
    "    if m <= 2:\n",
    "        return False\n",
    "    if m > 2:\n",
    "        while i < m:\n",
    "            if type(prime(i)) == int:\n",
    "                prime_list.append(i)\n",
    "                i = i + 1\n",
    "            else:\n",
    "                i = i + 1\n",
    "        return(prime_list)\n",
    "    return[2]\n",
    "\n",
    "def prime_interval2(m):\n",
    "    prime_list = []\n",
    "    i = m\n",
    "    if m <= 2:\n",
    "        return False\n",
    "    if m > 2:\n",
    "        while i > 2:\n",
    "            if type(prime(i)) == int:\n",
    "                prime_list.append(i)\n",
    "                i = i - 1\n",
    "            else:\n",
    "                i = i - 1\n",
    "        return(prime_list)\n",
    "    return[2]\n",
    "\n",
    "if __name__ == '__main__':\n",
    "    assert prime(5) == 5\n",
    "    assert prime(7) == 7\n",
    "    assert prime(13)== 13\n",
    "    assert prime(29) == 29\n",
    "    assert prime(2) == 2\n",
    "    assert prime(4) == False\n",
    "    assert prime(3748612) == False\n",
    "    assert prime(0) == False\n",
    "    assert prime_interval(3) == [2]\n",
    "    assert prime_interval(4) == [2, 3]\n",
    "    assert prime_interval(5) == [2, 3]"
   ]
  },
  {
   "cell_type": "code",
   "execution_count": 7,
   "metadata": {},
   "outputs": [
    {
     "name": "stdout",
     "output_type": "stream",
     "text": [
      "[2, 3]\n",
      "[5, 3]\n"
     ]
    }
   ],
   "source": [
    "print(prime_interval(5))\n",
    "print(prime_interval2(5))\n",
    "\"\"\"So, I should to invert this in the tests\"\"\""
   ]
  },
  {
   "cell_type": "code",
   "execution_count": 1,
   "metadata": {},
   "outputs": [],
   "source": [
    "def prime(n):\n",
    "    if n == 0 or n == 1:\n",
    "        return False\n",
    "    i = 2\n",
    "    while i < n:\n",
    "        if n % i == 0:\n",
    "            return False\n",
    "        i = i + 1\n",
    "    return(i)\n",
    "\n",
    "def prime_interval(m):\n",
    "    prime_list = []\n",
    "    i = 0\n",
    "    if m <= 2:\n",
    "        return False\n",
    "    if m > 2:\n",
    "        while i < m:\n",
    "            if type(prime(i)) == int:\n",
    "                prime_list.append(i)\n",
    "                i = i + 1\n",
    "            else:\n",
    "                i = i + 1\n",
    "        return(prime_list)\n",
    "    return[2]\n",
    "\n",
    "def prime_interval2(m):\n",
    "    prime_list = []\n",
    "    i = m\n",
    "    if m < 2:\n",
    "        return False\n",
    "    if m >= 2:\n",
    "        while i >= 2:\n",
    "            if type(prime(i)) == int:\n",
    "                prime_list.append(i)\n",
    "                i = i - 1\n",
    "            else:\n",
    "                i = i - 1\n",
    "        return(prime_list)\n",
    "    return[2]\n",
    "\n",
    "if __name__ == '__main__':\n",
    "    assert prime(5) == 5\n",
    "    assert prime(7) == 7\n",
    "    assert prime(13)== 13\n",
    "    assert prime(29) == 29\n",
    "    assert prime(2) == 2\n",
    "    assert prime(4) == False\n",
    "    assert prime(3748612) == False\n",
    "    assert prime(0) == False\n",
    "    assert prime_interval(3) == [2]\n",
    "    assert prime_interval(4) == [2, 3]\n",
    "    assert prime_interval(5) == [2, 3]\n",
    "    assert prime_interval2(3) == [3, 2]\n",
    "    assert prime_interval2(4) == [3, 2]\n",
    "    assert prime_interval2(5) == [5, 3, 2]"
   ]
  },
  {
   "cell_type": "code",
   "execution_count": 27,
   "metadata": {},
   "outputs": [
    {
     "data": {
      "text/plain": [
       "97"
      ]
     },
     "execution_count": 27,
     "metadata": {},
     "output_type": "execute_result"
    }
   ],
   "source": [
    "\"\"\"Therefore, if I am looking for the largest number inside this interval, \n",
    "I just need to do:\"\"\"\n",
    "prime_interval2(100)[0]"
   ]
  },
  {
   "cell_type": "markdown",
   "metadata": {},
   "source": [
    "### But in this way, the code is looking for the entiry list, and to show to me only the first number inside this list. The code is better if I tell to my code to return only the first number inside this list"
   ]
  },
  {
   "cell_type": "code",
   "execution_count": 12,
   "metadata": {},
   "outputs": [],
   "source": [
    "def prime(n):\n",
    "    if n == 0 or n == 1:\n",
    "        return False\n",
    "    i = 2\n",
    "    while i < n:\n",
    "        if n % i == 0:\n",
    "            return False\n",
    "        i = i + 1\n",
    "    return(i)\n",
    "\n",
    "def prime_interval(m):\n",
    "    prime_list = []\n",
    "    i = 0\n",
    "    if m <= 2:\n",
    "        return False\n",
    "    if m > 2:\n",
    "        while i < m:\n",
    "            if type(prime(i)) == int:\n",
    "                prime_list.append(i)\n",
    "                i = i + 1\n",
    "            else:\n",
    "                i = i + 1\n",
    "        return(prime_list)\n",
    "    return[2]\n",
    "\n",
    "def prime_interval2(m):\n",
    "    prime_list = []\n",
    "    i = m\n",
    "    if m < 2:\n",
    "        return False\n",
    "    if m >= 2:\n",
    "        while i >= 2:\n",
    "            if type(prime(i)) == int:\n",
    "                prime_list.append(i)\n",
    "                i = i - 1\n",
    "            else:\n",
    "                i = i - 1\n",
    "        return(prime_list)\n",
    "    return[2]\n",
    "\n",
    "def prime_interval3(m):\n",
    "    prime_list = []\n",
    "    i = m\n",
    "    if m < 2:\n",
    "        return False\n",
    "    if m >= 2:\n",
    "        while i >= 2:\n",
    "            if type(prime(i)) == int:\n",
    "                prime_list.append(i)\n",
    "                return(prime_list[0])#the code is going to stop here\n",
    "                i = i - 1\n",
    "            else:\n",
    "                i = i - 1\n",
    "        return(prime_list[0])\n",
    "    return[2]\n",
    "\n",
    "if __name__ == '__main__':\n",
    "    assert prime(5) == 5\n",
    "    assert prime(7) == 7\n",
    "    assert prime(13)== 13\n",
    "    assert prime(29) == 29\n",
    "    assert prime(2) == 2\n",
    "    assert prime(4) == False\n",
    "    assert prime(3748612) == False\n",
    "    assert prime(0) == False\n",
    "    assert prime_interval(3) == [2]\n",
    "    assert prime_interval(4) == [2, 3]\n",
    "    assert prime_interval(5) == [2, 3]\n",
    "    assert prime_interval2(3) == [3, 2]\n",
    "    assert prime_interval2(4) == [3, 2]\n",
    "    assert prime_interval2(5) == [5, 3, 2]"
   ]
  },
  {
   "cell_type": "code",
   "execution_count": 13,
   "metadata": {},
   "outputs": [
    {
     "data": {
      "text/plain": [
       "9000997"
      ]
     },
     "execution_count": 13,
     "metadata": {},
     "output_type": "execute_result"
    }
   ],
   "source": [
    "prime_interval3(9001000)"
   ]
  },
  {
   "cell_type": "code",
   "execution_count": null,
   "metadata": {},
   "outputs": [],
   "source": [
    "prime_interval3(600851475143)"
   ]
  },
  {
   "cell_type": "markdown",
   "metadata": {},
   "source": [
    "But it stil taking a several time to return a value."
   ]
  },
  {
   "cell_type": "code",
   "execution_count": null,
   "metadata": {},
   "outputs": [],
   "source": []
  }
 ],
 "metadata": {
  "kernelspec": {
   "display_name": "Python 3",
   "language": "python",
   "name": "python3"
  },
  "language_info": {
   "codemirror_mode": {
    "name": "ipython",
    "version": 3
   },
   "file_extension": ".py",
   "mimetype": "text/x-python",
   "name": "python",
   "nbconvert_exporter": "python",
   "pygments_lexer": "ipython3",
   "version": "3.6.5"
  }
 },
 "nbformat": 4,
 "nbformat_minor": 2
}
